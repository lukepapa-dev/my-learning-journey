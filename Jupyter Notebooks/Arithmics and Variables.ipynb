{
 "cells": [
  {
   "cell_type": "markdown",
   "id": "9e68c391",
   "metadata": {},
   "source": [
    "# Arithmics and Variables"
   ]
  },
  {
   "cell_type": "markdown",
   "id": "b929b08c",
   "metadata": {},
   "source": [
    "##### Printing a simple message\n"
   ]
  },
  {
   "cell_type": "code",
   "execution_count": 9,
   "id": "50415940",
   "metadata": {},
   "outputs": [
    {
     "name": "stdout",
     "output_type": "stream",
     "text": [
      "Hello World!\n"
     ]
    }
   ],
   "source": [
    "print('Hello World!')"
   ]
  },
  {
   "cell_type": "markdown",
   "id": "2802971d",
   "metadata": {},
   "source": [
    "##### Printing arithmic operations"
   ]
  },
  {
   "cell_type": "code",
   "execution_count": 10,
   "id": "f72aed9d",
   "metadata": {},
   "outputs": [
    {
     "name": "stdout",
     "output_type": "stream",
     "text": [
      "5 + 3 = 8\n",
      "5 - 3 = 2\n",
      "5 * 3 = 15\n",
      "5 / 3 = 1.6666666666666667\n",
      "5 ** 3 = 125\n",
      "5 % 3 = 2\n",
      "5 // 3 = 1\n"
     ]
    }
   ],
   "source": [
    "print('5 + 3 =', 5 + 3)\n",
    "print('5 - 3 =', 5 - 3)\n",
    "print('5 * 3 =', 5 * 3)\n",
    "print('5 / 3 =', 5 / 3)\n",
    "print('5 ** 3 =', 5 ** 3)  # Exponentiation\n",
    "print('5 % 3 =', 5 % 3)    # Modulus\n",
    "print('5 // 3 =', 5 // 3)  # Floor division\n"
   ]
  },
  {
   "cell_type": "markdown",
   "id": "45c16ae1",
   "metadata": {},
   "source": [
    "##### Controlling order of operations with perentheses"
   ]
  },
  {
   "cell_type": "code",
   "execution_count": 11,
   "id": "0d50ca4b",
   "metadata": {},
   "outputs": [
    {
     "name": "stdout",
     "output_type": "stream",
     "text": [
      "5 + 3 * 2 = 11\n",
      "(5 + 3) * 2 = 16\n"
     ]
    }
   ],
   "source": [
    "print(\"5 + 3 * 2 =\", 5 + 3 * 2)\n",
    "print(\"(5 + 3) * 2 =\", (5 + 3) * 2)"
   ]
  },
  {
   "cell_type": "markdown",
   "id": "3b572b93",
   "metadata": {},
   "source": [
    "##### Creating Variables"
   ]
  },
  {
   "cell_type": "code",
   "execution_count": 12,
   "id": "f52dfc24",
   "metadata": {},
   "outputs": [
    {
     "name": "stdout",
     "output_type": "stream",
     "text": [
      "The sum of a and b is: 8\n"
     ]
    }
   ],
   "source": [
    "a = 5\n",
    "b = 3\n",
    "sum_ab = a + b\n",
    "print('The sum of a and b is:', sum_ab)"
   ]
  },
  {
   "cell_type": "markdown",
   "id": "b13c8e19",
   "metadata": {},
   "source": [
    "##### Updating Variables"
   ]
  },
  {
   "cell_type": "code",
   "execution_count": 13,
   "id": "8480437b",
   "metadata": {},
   "outputs": [
    {
     "name": "stdout",
     "output_type": "stream",
     "text": [
      "Updated a: 7\n",
      "Updated b: 9\n"
     ]
    }
   ],
   "source": [
    "a += 2  # Increment a by 2\n",
    "b *= 3  # Multiply b by 3\n",
    "print('Updated a:', a)\n",
    "print('Updated b:', b)"
   ]
  },
  {
   "cell_type": "markdown",
   "id": "a5639299",
   "metadata": {},
   "source": [
    "##### Using multiple variables"
   ]
  },
  {
   "cell_type": "code",
   "execution_count": 14,
   "id": "045820c5",
   "metadata": {},
   "outputs": [
    {
     "name": "stdout",
     "output_type": "stream",
     "text": [
      "The total of x, y, and z is: 6\n"
     ]
    }
   ],
   "source": [
    "x, y, z = 1, 2, 3\n",
    "total = x + y + z\n",
    "print('The total of x, y, and z is:', total)"
   ]
  }
 ],
 "metadata": {
  "kernelspec": {
   "display_name": "Python 3",
   "language": "python",
   "name": "python3"
  },
  "language_info": {
   "codemirror_mode": {
    "name": "ipython",
    "version": 3
   },
   "file_extension": ".py",
   "mimetype": "text/x-python",
   "name": "python",
   "nbconvert_exporter": "python",
   "pygments_lexer": "ipython3",
   "version": "3.13.7"
  }
 },
 "nbformat": 4,
 "nbformat_minor": 5
}
