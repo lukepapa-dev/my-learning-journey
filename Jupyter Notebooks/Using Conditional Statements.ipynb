{
 "cells": [
  {
   "cell_type": "markdown",
   "id": "084b3b28",
   "metadata": {},
   "source": [
    "# Using Conditional Statements"
   ]
  },
  {
   "cell_type": "markdown",
   "id": "255a5f0b",
   "metadata": {},
   "source": [
    "##### Simple if Statement"
   ]
  },
  {
   "cell_type": "code",
   "execution_count": 1,
   "id": "29c2380a",
   "metadata": {},
   "outputs": [
    {
     "name": "stdout",
     "output_type": "stream",
     "text": [
      "x is greater tha 5\n"
     ]
    }
   ],
   "source": [
    "x = 5\n",
    "if x > 0:\n",
    "    print(\"x is greater tha 5\")\n"
   ]
  },
  {
   "cell_type": "markdown",
   "id": "e7925cc1",
   "metadata": {},
   "source": [
    "##### if-else Statment"
   ]
  },
  {
   "cell_type": "code",
   "execution_count": 2,
   "id": "5c71cb73",
   "metadata": {},
   "outputs": [
    {
     "name": "stdout",
     "output_type": "stream",
     "text": [
      "x is not less than to 5\n"
     ]
    }
   ],
   "source": [
    "if x < 5:\n",
    "    print(\"x is less than 5\")\n",
    "else:\n",
    "    print(\"x is not less than to 5\")"
   ]
  },
  {
   "cell_type": "markdown",
   "id": "fa8438b4",
   "metadata": {},
   "source": [
    "##### if-elif-else Statments"
   ]
  },
  {
   "cell_type": "code",
   "execution_count": 3,
   "id": "43ba23dc",
   "metadata": {},
   "outputs": [
    {
     "name": "stdout",
     "output_type": "stream",
     "text": [
      "x is equal to 5\n"
     ]
    }
   ],
   "source": [
    "if x == 5:\n",
    "    print(\"x is equal to 5\")\n",
    "elif x > 5:\n",
    "    print(\"x is greater than 5\")\n",
    "else:\n",
    "    print(\"x is less than 5\")\n",
    "    "
   ]
  },
  {
   "cell_type": "markdown",
   "id": "9cff4874",
   "metadata": {},
   "source": [
    "##### Example calculating overtime pay using conditional statments"
   ]
  },
  {
   "cell_type": "code",
   "execution_count": 4,
   "id": "3c902dbb",
   "metadata": {},
   "outputs": [
    {
     "name": "stdout",
     "output_type": "stream",
     "text": [
      "Your total pay is: $ 475.0\n"
     ]
    }
   ],
   "source": [
    "hours_worked = 45\n",
    "pay_rate = 10.00\n",
    "if hours_worked > 40:\n",
    "    overtime_hours = hours_worked - 40\n",
    "    overtime_pay = overtime_hours * pay_rate * 1.5\n",
    "    total_pay = (40 * pay_rate) + overtime_pay\n",
    "else:\n",
    "    total_pay = hours_worked * pay_rate\n",
    "\n",
    "print('Your total pay is: $', total_pay)"
   ]
  },
  {
   "cell_type": "markdown",
   "id": "9214ea21",
   "metadata": {},
   "source": [
    "##### Demonstrating Nested if Statments"
   ]
  },
  {
   "cell_type": "code",
   "execution_count": 5,
   "id": "aa907516",
   "metadata": {},
   "outputs": [
    {
     "name": "stdout",
     "output_type": "stream",
     "text": [
      "You are an adult\n"
     ]
    }
   ],
   "source": [
    "age = 25\n",
    "if age >= 18:\n",
    "    if age < 65:\n",
    "        print('You are an adult')\n",
    "    else:\n",
    "        print('You are a senior citizen')\n",
    "else:\n",
    "    print('You are a minor')"
   ]
  }
 ],
 "metadata": {
  "kernelspec": {
   "display_name": "Python 3",
   "language": "python",
   "name": "python3"
  },
  "language_info": {
   "codemirror_mode": {
    "name": "ipython",
    "version": 3
   },
   "file_extension": ".py",
   "mimetype": "text/x-python",
   "name": "python",
   "nbconvert_exporter": "python",
   "pygments_lexer": "ipython3",
   "version": "3.13.7"
  }
 },
 "nbformat": 4,
 "nbformat_minor": 5
}
